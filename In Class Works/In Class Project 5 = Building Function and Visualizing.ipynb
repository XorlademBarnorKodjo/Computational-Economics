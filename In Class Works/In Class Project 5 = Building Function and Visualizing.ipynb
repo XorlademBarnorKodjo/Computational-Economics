{
 "cells": [
  {
   "cell_type": "markdown",
   "id": "71522e7d",
   "metadata": {},
   "source": [
    "# Buildig Functios and Visualizing Distribtions"
   ]
  },
  {
   "cell_type": "markdown",
   "id": "94a2864f",
   "metadata": {},
   "source": [
    "## Building Functions\n",
    "\n",
    "in python it provides a means to reuse a code"
   ]
  },
  {
   "cell_type": "code",
   "execution_count": 18,
   "id": "918ede8f",
   "metadata": {},
   "outputs": [],
   "source": [
    "def total(list_obj):\n",
    "    total = 0\n",
    "    n = len(list_obj)\n",
    "    for i in range(n):\n",
    "        total += list_obj[i]\n",
    "    return total\n",
    "\n",
    "#the use of _ after the 2nd mean is telling the system its a variable name not the same as the function\n",
    "\n",
    "def mean(list_obj):\n",
    "    n = len(list_obj)\n",
    "    mean_ = total(list_obj) / n\n",
    "    return mean_\n",
    "\n",
    "def median(list_obj):\n",
    "    n = len(list_obj)\n",
    "    list_obj = sorted(list_obj)\n",
    "    \n",
    "#next is for list with even number length, this is divided by 2 with no reminder, 0\n",
    "    if n % 2 !=0:\n",
    "        #next is for odd length list\n",
    "        middle_index = int((n - 1) / 2)\n",
    "        median_ = list_obj[middle_index]\n",
    "    else:\n",
    "        upper_middle_index = int(n / 2)\n",
    "        lower_middle_index = upper_middle_index - 1\n",
    "        #pass slice with two middle values to mean(the mean of the two middle index)\n",
    "        median_ = mean(list_obj[lower_middle_index : upper_middle_index + 1])\n",
    "    return median_\n",
    "\n",
    "\n",
    "def mode(list_obj):\n",
    "#code use to record values that appear most times\n",
    "    max_count = 0\n",
    "    #use to count occurrences of each value in list\n",
    "    counter_dict = {}\n",
    "    for value in list_obj:\n",
    "        #count for each value should start at 0\n",
    "        counter_dict[value] = 0\n",
    "    for value in list_obj:\n",
    "        #add on to the count of the value for each occurrence in list_obj\n",
    "        counter_dict[value] += 1\n",
    "    #make a list of the value (not keys) from the dictionary\n",
    "    count_list = list(counter_dict.values())\n",
    "    #and find the max value\n",
    "    max_count = max(count_list)\n",
    "    #use a generator to make a list of the values (keys) whose number of occurrences in the list match max_count\n",
    "    mode_ = [key for key in counter_dict if counter_dict[key] == max_count]\n",
    "    return mode_"
   ]
  },
  {
   "cell_type": "code",
   "execution_count": 19,
   "id": "be003e45",
   "metadata": {},
   "outputs": [
    {
     "name": "stdout",
     "output_type": "stream",
     "text": [
      "total: 66\n",
      "mean: 5.5\n",
      "median: 5.5\n",
      "mode: [9]\n"
     ]
    }
   ],
   "source": [
    "lst = [1,2,9,3,4,5,9,6,7,8,9,3]\n",
    "\n",
    "print(\"total:\", total(lst))\n",
    "print(\"mean:\", mean(lst))\n",
    "print(\"median:\", median(lst))\n",
    "print(\"mode:\", mode(lst))"
   ]
  },
  {
   "cell_type": "code",
   "execution_count": null,
   "id": "d76f1463",
   "metadata": {},
   "outputs": [],
   "source": []
  }
 ],
 "metadata": {
  "kernelspec": {
   "display_name": "Python 3",
   "language": "python",
   "name": "python3"
  },
  "language_info": {
   "codemirror_mode": {
    "name": "ipython",
    "version": 3
   },
   "file_extension": ".py",
   "mimetype": "text/x-python",
   "name": "python",
   "nbconvert_exporter": "python",
   "pygments_lexer": "ipython3",
   "version": "3.8.8"
  }
 },
 "nbformat": 4,
 "nbformat_minor": 5
}
