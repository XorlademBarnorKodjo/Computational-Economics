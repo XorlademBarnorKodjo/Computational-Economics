{
 "cells": [
  {
   "cell_type": "markdown",
   "id": "68f751db",
   "metadata": {},
   "source": [
    "## Exercises\n",
    "Use the np.log() function to log the values of RGDP per capita. Create a lag for this new variable and rerun the regression using these new logged values as well as untransformed Economic Freedom Index Values (don't log these variables!). (hint: you may reimport the csv file).\n",
    "\n",
    "Plot the residuals in a bar chart. Explain why the shape of the distribution of these residuals are distinct from the shape of the residuals plotted in the first regression from this lesson.\n",
    "\n",
    "Plot a scatter plot with RGDP Per Capita on the horizontal axis and the predictor on the vertical axis. Then plot a scatter plot with RGDP Per Capita on the horizontal axis and the residual on the vertical axis. Are the residuals normally distributed? Why or why not? Why does this matter?\n",
    "\n",
    "Plot the observed and predicted logged values of RGDP Per Capita for each individual country."
   ]
  },
  {
   "cell_type": "code",
   "execution_count": null,
   "id": "a1988805",
   "metadata": {
    "scrolled": true
   },
   "outputs": [],
   "source": [
    "import pandas as pd\n",
    "import statsmodels.api as sm\n",
    "import numpy as np\n",
    "\n",
    "data = pd.read_csv(\"fraserDataWithRGDPPC.csv\", \n",
    "                   index_col = [0,1], \n",
    "                   parse_dates = True)\n",
    "data"
   ]
  },
  {
   "cell_type": "code",
   "execution_count": null,
   "id": "1f256381",
   "metadata": {
    "scrolled": true
   },
   "outputs": [],
   "source": [
    "years = np.array(sorted(list(set(data.index.get_level_values(\"Year\")))))\n",
    "years = pd.date_range(years[0], years[-2], freq = \"AS\")\n",
    "countries = sorted(list(set(data.index.get_level_values(\"ISO_Code\"))))\n",
    "index_names = list(data.index.names)\n",
    "multi_index = pd.MultiIndex.from_product(\n",
    "    [countries, years[:-1]], names = data.index.names)\n",
    "data = data.reindex(multi_index)\n",
    "\n",
    "data"
   ]
  },
  {
   "cell_type": "code",
   "execution_count": null,
   "id": "d59a96ce",
   "metadata": {},
   "outputs": [],
   "source": [
    "data[\"RGDP Per Capita Lag\"] = data.groupby(\"ISO_Code\")[\"RGDP Per Capita\"].shift()"
   ]
  },
  {
   "cell_type": "code",
   "execution_count": null,
   "id": "3397c339",
   "metadata": {},
   "outputs": [],
   "source": [
    "data[\"Ln RGDP Per Capita\"] = np.log(data[\"RGDP Per Capita\"])"
   ]
  },
  {
   "cell_type": "code",
   "execution_count": null,
   "id": "a985965e",
   "metadata": {},
   "outputs": [],
   "source": [
    "data[\"Ln RGDP Per Capita Lag\"] = data.groupby(\"ISO_Code\")[\"Ln RGDP Per Capita\"].shift()"
   ]
  },
  {
   "cell_type": "code",
   "execution_count": null,
   "id": "33abcb05",
   "metadata": {
    "scrolled": true
   },
   "outputs": [],
   "source": [
    "data = data.dropna(axis=0)\n",
    "data.loc[\"GBR\"]"
   ]
  },
  {
   "cell_type": "code",
   "execution_count": null,
   "id": "c83000a4",
   "metadata": {},
   "outputs": [],
   "source": [
    "y_var = [\"Ln RGDP Per Capita\"]\n",
    "x_vars = [\"Size of Government\", \n",
    "          \"Legal System & Property Rights\", \n",
    "          \"Sound Money\",\n",
    "          \"Freedom to trade internationally\",\n",
    "          \"Regulation\",\n",
    "         \"RGDP Per Capita Lag\"]\n",
    "reg_vars = y_var + x_vars\n",
    "reg_data = data[reg_vars]\n",
    "reg_data.corr().round(2)\n"
   ]
  },
  {
   "cell_type": "code",
   "execution_count": null,
   "id": "0bd32b8e",
   "metadata": {},
   "outputs": [],
   "source": [
    "y = reg_data[y_var]\n",
    "X = reg_data[x_vars]\n",
    "X[\"Constant\"] = 1\n",
    "results = sm.OLS(y, X).fit()\n",
    "reg_data[\"Predictor\"] = results.predict()"
   ]
  },
  {
   "cell_type": "code",
   "execution_count": null,
   "id": "3333e738",
   "metadata": {},
   "outputs": [],
   "source": [
    "predictor = results.predict()\n",
    "reg_data[y_var[0] + \" Predictor\"] = predictor"
   ]
  },
  {
   "cell_type": "code",
   "execution_count": null,
   "id": "8c6b9358",
   "metadata": {
    "scrolled": true
   },
   "outputs": [],
   "source": [
    "y_hat = reg_data[y_var[0] + \" Predictor\"]\n",
    "y_mean = reg_data[y_var[0]].mean()\n",
    "y = reg_data[y_var[0]]\n",
    "reg_data[\"Residuals\"] = (y_hat.sub(y_mean))\n",
    "reg_data[\"Squared Residuals\"] = reg_data[\"Residuals\"].pow(2)\n",
    "reg_data[\"Squared Errors\"] = (y.sub(y_hat)) ** 2\n",
    "reg_data[\"Squared Totals\"] = (y.sub(y_mean)) ** 2\n",
    "reg_data"
   ]
  },
  {
   "cell_type": "code",
   "execution_count": null,
   "id": "1373ae7c",
   "metadata": {},
   "outputs": [],
   "source": [
    "y = reg_data[y_var]\n",
    "X = reg_data[x_vars]\n",
    "X[\"Constant\"] = 1\n",
    "results = sm.OLS(y, X).fit()"
   ]
  },
  {
   "cell_type": "code",
   "execution_count": null,
   "id": "ffd08994",
   "metadata": {},
   "outputs": [],
   "source": [
    "predictor = results.predict()\n",
    "reg_data[y_var[0] + \" Predictor\"] = predictor"
   ]
  },
  {
   "cell_type": "code",
   "execution_count": null,
   "id": "521056cc",
   "metadata": {},
   "outputs": [],
   "source": [
    "results.summary()"
   ]
  },
  {
   "cell_type": "code",
   "execution_count": null,
   "id": "6bd9fb31",
   "metadata": {
    "scrolled": false
   },
   "outputs": [],
   "source": [
    "import matplotlib.pyplot as plt\n",
    "plt.rcParams.update({\"font.size\":26})\n",
    "fig, ax = plt.subplots(figsize = (12,8))\n",
    "reg_data[[\"Residuals\"]].plot.hist(bins = 100, ax = ax)\n",
    "plt.xticks(rotation=60)"
   ]
  },
  {
   "cell_type": "code",
   "execution_count": null,
   "id": "e6d0f690",
   "metadata": {
    "scrolled": false
   },
   "outputs": [],
   "source": [
    "fig, ax = plt.subplots(figsize = (12,8))\n",
    "reg_data[[\"Squared Residuals\"]].plot.hist(bins =100, ax = ax)"
   ]
  },
  {
   "cell_type": "code",
   "execution_count": null,
   "id": "f2f1adc9",
   "metadata": {},
   "outputs": [],
   "source": [
    "fig, ax = plt.subplots(figsize = (14,10))\n",
    "reg_data.plot.scatter(x = y_var[0],\n",
    "                 y = \"Predictor\", \n",
    "                  s = 30, ax = ax)\n",
    "plt.xticks(rotation=90)\n",
    "plt.show()\n",
    "plt.close()\n",
    "\n",
    "fig, ax = plt.subplots(figsize = (14,10))\n",
    "reg_data.plot.scatter(x = y_var[0],\n",
    "                 y = \"Residuals\", \n",
    "                  s = 30, ax = ax)\n",
    "ax.axhline(0, ls = \"--\", color = \"k\")\n",
    "plt.xticks(rotation=90)\n",
    "plt.show()\n",
    "plt.close()"
   ]
  },
  {
   "cell_type": "code",
   "execution_count": null,
   "id": "3ddcb2a4",
   "metadata": {},
   "outputs": [],
   "source": [
    "countries = data.groupby(\"ISO_Code\").mean().index\n",
    "for country in countries:\n",
    "    fig, ax = plt.subplots(figsize = (12,8))\n",
    "    reg_data[y_var + [y_var[0] + \" Predictor\"]].loc[country].plot.line(ax = ax, legend = False)    \n",
    "    ax.set_title(country)\n",
    "    "
   ]
  },
  {
   "cell_type": "code",
   "execution_count": null,
   "id": "bbc9cb32",
   "metadata": {},
   "outputs": [],
   "source": []
  }
 ],
 "metadata": {
  "kernelspec": {
   "display_name": "Python 3",
   "language": "python",
   "name": "python3"
  },
  "language_info": {
   "codemirror_mode": {
    "name": "ipython",
    "version": 3
   },
   "file_extension": ".py",
   "mimetype": "text/x-python",
   "name": "python",
   "nbconvert_exporter": "python",
   "pygments_lexer": "ipython3",
   "version": "3.8.8"
  }
 },
 "nbformat": 4,
 "nbformat_minor": 5
}
